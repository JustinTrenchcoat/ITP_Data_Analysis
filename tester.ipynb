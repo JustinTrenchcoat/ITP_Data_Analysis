{
 "cells": [
  {
   "cell_type": "code",
   "execution_count": 87,
   "id": "112a3853",
   "metadata": {},
   "outputs": [],
   "source": [
    "import numpy as np\n",
    "import cartopy.crs as ccrs\n",
    "import pickle\n",
    "from helper import *\n",
    "import pandas as pd\n",
    "import matplotlib.pyplot as plt\n",
    "import matplotlib.colors as colors\n",
    "import matplotlib.dates as mdates\n",
    "import math"
   ]
  },
  {
   "cell_type": "code",
   "execution_count": 88,
   "id": "79f5a4cb",
   "metadata": {},
   "outputs": [],
   "source": [
    "\n",
    "with open('grouped.pkl', 'rb') as f:\n",
    "    groupedYears = pickle.load(f)\n"
   ]
  },
  {
   "cell_type": "code",
   "execution_count": 89,
   "id": "a34e4f29",
   "metadata": {},
   "outputs": [],
   "source": [
    "i = 0"
   ]
  },
  {
   "cell_type": "code",
   "execution_count": 96,
   "id": "747a78d2",
   "metadata": {},
   "outputs": [
    {
     "name": "stdout",
     "output_type": "stream",
     "text": [
      "7315084\n",
      "7315084\n",
      "7259\n",
      "         date  systemNum  profileNum         lon        lat  count\n",
      "0  2004-08-20          2           1 -141.169724  77.169878   1008\n",
      "1  2004-08-20          2           2 -141.124306  77.167240   1000\n",
      "2  2004-08-20          2           3 -141.071005  77.165869   1020\n",
      "3  2004-08-20          2           4 -141.009686  77.165787   1016\n",
      "4  2004-08-20          2           5 -140.970960  77.159743    988\n",
      "           depth      temp        date   salinity         lon        lat  \\\n",
      "13443208  100.00 -1.573486  2007-08-14  32.244474 -149.314595  78.085411   \n",
      "13443209  100.25 -1.572936  2007-08-14  32.246645 -149.314595  78.085411   \n",
      "13443210  100.50 -1.572386  2007-08-14  32.248816 -149.314595  78.085411   \n",
      "13443211  100.75 -1.571836  2007-08-14  32.250987 -149.314595  78.085411   \n",
      "13443212  101.00 -1.571285  2007-08-14  32.253159 -149.314595  78.085411   \n",
      "...          ...       ...         ...        ...         ...        ...   \n",
      "32453699  382.75  0.871830  2007-12-31  35.006338 -138.383059  80.059732   \n",
      "32453700  383.00  0.871864  2007-12-31  35.006353 -138.383059  80.059732   \n",
      "32453701  383.25  0.871867  2007-12-31  35.006368 -138.383059  80.059732   \n",
      "32453702  383.50  0.871860  2007-12-31  35.006282 -138.383059  80.059732   \n",
      "32453703  383.75  0.871854  2007-12-31  35.006196 -138.383059  80.059732   \n",
      "\n",
      "            pressure     dT/dZ     dS/dZ      n_sq  turner_angle     R_rho  \\\n",
      "13443208  101.087362  0.004807  0.012407  0.000104    -45.578850  5.426893   \n",
      "13443209  101.340143  0.004809  0.012449  0.000104    -45.576424  5.467644   \n",
      "13443210  101.592924  0.004809  0.012491  0.000104    -45.573916  5.508131   \n",
      "13443211  101.845705  0.004809  0.012533  0.000104    -45.571328  5.548432   \n",
      "13443212  102.098486  0.004808  0.012575  0.000104    -45.568658  5.588461   \n",
      "...              ...       ...       ...       ...           ...       ...   \n",
      "32453699  387.205882  0.001747  0.000315  0.000002     67.619582  2.699441   \n",
      "32453700  387.459028  0.001732  0.000308  0.000002     68.228794  2.671488   \n",
      "32453701  387.712176  0.001716  0.000301  0.000002     68.838990  2.643562   \n",
      "32453702  387.965323  0.001700  0.000294  0.000002     69.450067  2.615662   \n",
      "32453703  388.218471  0.001685  0.000287  0.000002     70.061934  2.587797   \n",
      "\n",
      "          profileNum  systemNum  \n",
      "13443208           1         13  \n",
      "13443209           1         13  \n",
      "13443210           1         13  \n",
      "13443211           1         13  \n",
      "13443212           1         13  \n",
      "...              ...        ...  \n",
      "32453699         284          8  \n",
      "32453700         284          8  \n",
      "32453701         284          8  \n",
      "32453702         284          8  \n",
      "32453703         284          8  \n",
      "\n",
      "[7315084 rows x 14 columns]\n"
     ]
    }
   ],
   "source": [
    "# Group and count\n",
    "def simpleDF(df):\n",
    "    df_with_counts = df.copy()\n",
    "    df_with_counts['year'] = df_with_counts['date'].apply(lambda d: d.year)\n",
    "    df_with_counts = (\n",
    "        df_with_counts.groupby([\"date\",\"systemNum\", \"profileNum\", \"lon\", \"lat\"])\n",
    "        .size()\n",
    "        .reset_index(name='count')\n",
    "        )\n",
    "    return df_with_counts\n",
    "\n",
    "group_zero = simpleDF(groupedYears[i])\n",
    "print(len(groupedYears[i]))\n",
    "print(np.sum(group_zero[\"count\"]))\n",
    "print(len(group_zero[\"profileNum\"]))\n",
    "print(group_zero.head())\n",
    "print(groupedYears[i])"
   ]
  },
  {
   "cell_type": "code",
   "execution_count": 100,
   "id": "51bc54a3",
   "metadata": {},
   "outputs": [
    {
     "name": "stdout",
     "output_type": "stream",
     "text": [
      "            lat         lon  year  systemNum  profileNum  count\n",
      "0     74.077351 -135.096601  2006          3        1510    932\n",
      "1     74.081346 -135.695960  2006          3        1504    992\n",
      "2     74.083059 -135.674867  2006          3        1503   1000\n",
      "3     74.086695 -135.101169  2006          3        1511    920\n",
      "4     74.089399 -135.121412  2006          3        1509    908\n",
      "...         ...         ...   ...        ...         ...    ...\n",
      "7254  80.946172 -149.019553  2007          8         100   1148\n",
      "7255  80.953127 -149.042850  2007          8          99   1168\n",
      "7256  80.974083 -149.633178  2007          8          97   1148\n",
      "7257  80.974738 -149.523529  2007          8          98   1184\n",
      "7258  80.990152 -151.842318  2007          8          89   1256\n",
      "\n",
      "[7259 rows x 6 columns]\n",
      "            lat         lon  year  systemNum  profileNum  count\n",
      "2835  76.569531 -134.164638  2004          2         180    976\n",
      "2838  76.571359 -134.130646  2004          2         181    976\n",
      "2839  76.571627 -134.219250  2004          2         179    948\n",
      "2844  76.577193 -134.117708  2004          2         182    976\n",
      "2846  76.578211 -134.295095  2004          2         178    936\n",
      "...         ...         ...   ...        ...         ...    ...\n",
      "3872  77.159743 -140.970960  2004          2           5    988\n",
      "3878  77.165787 -141.009686  2004          2           4   1016\n",
      "3879  77.165869 -141.071005  2004          2           3   1020\n",
      "3884  77.167240 -141.124306  2004          2           2   1000\n",
      "3886  77.169878 -141.169724  2004          2           1   1008\n",
      "\n",
      "[239 rows x 6 columns]\n",
      "1049\n",
      "3197\n",
      "2774\n"
     ]
    }
   ],
   "source": [
    "# Group and count\n",
    "def simpleDF(df):\n",
    "    df_with_counts = df.copy()\n",
    "    df_with_counts['year'] = df_with_counts['date'].apply(lambda d: d.year)\n",
    "    df_with_counts = (\n",
    "        df_with_counts.groupby([\"lat\", \"lon\", \"year\", \"systemNum\", \"profileNum\"])\n",
    "        .size()\n",
    "        .reset_index(name='count')\n",
    "        )\n",
    "    return df_with_counts\n",
    "\n",
    "group_zero = simpleDF(groupedYears[i])\n",
    "print(group_zero)\n",
    "print(group_zero[group_zero[\"year\"]==2004])\n",
    "print(len(group_zero[group_zero[\"year\"]==2005]))\n",
    "print(len(group_zero[group_zero[\"year\"]==2006]))\n",
    "print(len(group_zero[group_zero[\"year\"]==2007]))\n"
   ]
  },
  {
   "cell_type": "code",
   "execution_count": 77,
   "id": "ef80183c",
   "metadata": {},
   "outputs": [
    {
     "name": "stdout",
     "output_type": "stream",
     "text": [
      "Empty DataFrame\n",
      "Columns: [date, profileNum, systemNum, lat, lon]\n",
      "Index: []\n"
     ]
    }
   ],
   "source": [
    "check_unique = (\n",
    "    groupedYears[i].groupby(['date', 'profileNum',\"systemNum\"])[['lat', 'lon']]\n",
    "    .nunique()\n",
    "    .reset_index()\n",
    ")\n",
    "print(check_unique[check_unique[\"lat\"] > 1])\n"
   ]
  },
  {
   "cell_type": "code",
   "execution_count": null,
   "id": "53bc7097",
   "metadata": {},
   "outputs": [
    {
     "name": "stdout",
     "output_type": "stream",
     "text": [
      "36295\n"
     ]
    }
   ],
   "source": [
    "df = groupedYears[i]\n",
    "check_unique = (\n",
    "    df.groupby(['date', 'profileNum', \"systemNum\"])[['lat', 'lon']]\n",
    "    .nunique()\n",
    "    .reset_index()\n",
    ")\n",
    "print(check_unique)\n",
    "\n",
    "# Only those with more than 1 unique lat or lon\n",
    "not_unique = check_unique[(check_unique['lat'] > 1) | (check_unique['lon'] > 1)]\n",
    "\n",
    "for _, row in not_unique.iterrows():\n",
    "    date = row['date']\n",
    "    profile = row['profileNum']\n",
    "\n",
    "    # Filter original df for this pair\n",
    "    subset = df[(df['date'] == date) & (df['profileNum'] == profile)]\n",
    "\n",
    "    # Get distinct lat/lon values\n",
    "    unique_locs = subset[['lat', 'lon',\"systemNum\"]].drop_duplicates()\n",
    "\n",
    "    print(f\"\\n(date: {date}, profileNum: {profile}) has multiple locations:\")\n",
    "    print(unique_locs)\n",
    "# add ITP system number to the inital dataset\n"
   ]
  },
  {
   "cell_type": "code",
   "execution_count": null,
   "id": "e560ab40",
   "metadata": {},
   "outputs": [],
   "source": []
  }
 ],
 "metadata": {
  "kernelspec": {
   "display_name": "base",
   "language": "python",
   "name": "python3"
  },
  "language_info": {
   "codemirror_mode": {
    "name": "ipython",
    "version": 3
   },
   "file_extension": ".py",
   "mimetype": "text/x-python",
   "name": "python",
   "nbconvert_exporter": "python",
   "pygments_lexer": "ipython3",
   "version": "3.12.8"
  }
 },
 "nbformat": 4,
 "nbformat_minor": 5
}

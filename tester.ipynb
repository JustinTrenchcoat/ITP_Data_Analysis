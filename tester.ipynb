{
 "cells": [
  {
   "cell_type": "code",
   "execution_count": 1,
   "id": "112a3853",
   "metadata": {},
   "outputs": [],
   "source": [
    "import numpy as np\n",
    "import cartopy.crs as ccrs\n",
    "import pickle\n",
    "from helper import *\n",
    "import pandas as pd\n",
    "import matplotlib.pyplot as plt\n",
    "import matplotlib.colors as colors\n",
    "import matplotlib.dates as mdates\n",
    "import math"
   ]
  },
  {
   "cell_type": "code",
   "execution_count": 73,
   "id": "79f5a4cb",
   "metadata": {},
   "outputs": [],
   "source": [
    "\n",
    "with open('grouped.pkl', 'rb') as f:\n",
    "    groupedYears = pickle.load(f)\n"
   ]
  },
  {
   "cell_type": "code",
   "execution_count": 60,
   "id": "a34e4f29",
   "metadata": {},
   "outputs": [],
   "source": [
    "i = 0"
   ]
  },
  {
   "cell_type": "code",
   "execution_count": 82,
   "id": "747a78d2",
   "metadata": {},
   "outputs": [
    {
     "name": "stdout",
     "output_type": "stream",
     "text": [
      "7315084\n",
      "7315084\n",
      "7259\n",
      "         date  systemNum  profileNum         lon        lat  count\n",
      "0  2004-08-20          2           1 -141.169724  77.169878   1008\n",
      "1  2004-08-20          2           2 -141.124306  77.167240   1000\n",
      "2  2004-08-20          2           3 -141.071005  77.165869   1020\n",
      "3  2004-08-20          2           4 -141.009686  77.165787   1016\n",
      "4  2004-08-20          2           5 -140.970960  77.159743    988\n"
     ]
    }
   ],
   "source": [
    "# Group and count\n",
    "def simpleDF(df):\n",
    "    df_with_counts = df.copy()\n",
    "    df_with_counts['year'] = df_with_counts['date'].apply(lambda d: d.year)\n",
    "    df_with_counts = (\n",
    "        df_with_counts.groupby([\"date\",\"systemNum\", \"profileNum\", \"lon\", \"lat\"])\n",
    "        .size()\n",
    "        .reset_index(name='count')\n",
    "        )\n",
    "    return df_with_counts\n",
    "\n",
    "group_zero = simpleDF(groupedYears[i])\n",
    "print(len(groupedYears[i]))\n",
    "print(np.sum(group_zero[\"count\"]))\n",
    "print(len(group_zero[\"profileNum\"]))\n",
    "print(group_zero.head())"
   ]
  },
  {
   "cell_type": "code",
   "execution_count": 85,
   "id": "51bc54a3",
   "metadata": {},
   "outputs": [
    {
     "name": "stdout",
     "output_type": "stream",
     "text": [
      "7315084\n",
      "7315084\n",
      "7259\n",
      "             lon        lat  systemNum  profileNum  count\n",
      "0    -155.678120  79.187618          6         906   1140\n",
      "1    -155.573114  79.125465          6         905   1108\n",
      "2    -155.388496  79.027692          6         904   1228\n",
      "3    -155.375076  79.070385          6         898   1088\n",
      "4    -155.372510  79.039958          6         897   1156\n",
      "...          ...        ...        ...         ...    ...\n",
      "7254 -130.435750  77.038213          1        1553    900\n",
      "7255 -130.421207  76.981959          1        1557    952\n",
      "7256 -130.396222  76.987946          1        1556    916\n",
      "7257 -130.377595  76.997565          1        1555    920\n",
      "7258 -130.352146  77.004859          1        1554    932\n",
      "\n",
      "[7259 rows x 5 columns]\n"
     ]
    }
   ],
   "source": [
    "# Group and count\n",
    "def simpleDF(df):\n",
    "    df_with_counts = df.copy()\n",
    "    df_with_counts['year'] = df_with_counts['date'].apply(lambda d: d.year)\n",
    "    df_with_counts = (\n",
    "        df_with_counts.groupby([\"lon\", \"lat\", \"systemNum\", \"profileNum\"])\n",
    "        .size()\n",
    "        .reset_index(name='count')\n",
    "        )\n",
    "    return df_with_counts\n",
    "\n",
    "group_zero = simpleDF(groupedYears[i])\n",
    "print(len(groupedYears[i]))\n",
    "print(np.sum(group_zero[\"count\"]))\n",
    "print(len(group_zero[\"lon\"]))\n",
    "print(group_zero)"
   ]
  },
  {
   "cell_type": "code",
   "execution_count": 77,
   "id": "ef80183c",
   "metadata": {},
   "outputs": [
    {
     "name": "stdout",
     "output_type": "stream",
     "text": [
      "Empty DataFrame\n",
      "Columns: [date, profileNum, systemNum, lat, lon]\n",
      "Index: []\n"
     ]
    }
   ],
   "source": [
    "check_unique = (\n",
    "    groupedYears[i].groupby(['date', 'profileNum',\"systemNum\"])[['lat', 'lon']]\n",
    "    .nunique()\n",
    "    .reset_index()\n",
    ")\n",
    "print(check_unique[check_unique[\"lat\"] > 1])\n"
   ]
  },
  {
   "cell_type": "code",
   "execution_count": null,
   "id": "53bc7097",
   "metadata": {},
   "outputs": [
    {
     "name": "stdout",
     "output_type": "stream",
     "text": [
      "36295\n"
     ]
    }
   ],
   "source": [
    "df = groupedYears[i]\n",
    "check_unique = (\n",
    "    df.groupby(['date', 'profileNum', \"systemNum\"])[['lat', 'lon']]\n",
    "    .nunique()\n",
    "    .reset_index()\n",
    ")\n",
    "print(check_unique)\n",
    "\n",
    "# Only those with more than 1 unique lat or lon\n",
    "not_unique = check_unique[(check_unique['lat'] > 1) | (check_unique['lon'] > 1)]\n",
    "\n",
    "for _, row in not_unique.iterrows():\n",
    "    date = row['date']\n",
    "    profile = row['profileNum']\n",
    "\n",
    "    # Filter original df for this pair\n",
    "    subset = df[(df['date'] == date) & (df['profileNum'] == profile)]\n",
    "\n",
    "    # Get distinct lat/lon values\n",
    "    unique_locs = subset[['lat', 'lon',\"systemNum\"]].drop_duplicates()\n",
    "\n",
    "    print(f\"\\n(date: {date}, profileNum: {profile}) has multiple locations:\")\n",
    "    print(unique_locs)\n",
    "# add ITP system number to the inital dataset\n"
   ]
  },
  {
   "cell_type": "code",
   "execution_count": null,
   "id": "e560ab40",
   "metadata": {},
   "outputs": [],
   "source": []
  }
 ],
 "metadata": {
  "kernelspec": {
   "display_name": "base",
   "language": "python",
   "name": "python3"
  },
  "language_info": {
   "codemirror_mode": {
    "name": "ipython",
    "version": 3
   },
   "file_extension": ".py",
   "mimetype": "text/x-python",
   "name": "python",
   "nbconvert_exporter": "python",
   "pygments_lexer": "ipython3",
   "version": "3.12.8"
  }
 },
 "nbformat": 4,
 "nbformat_minor": 5
}

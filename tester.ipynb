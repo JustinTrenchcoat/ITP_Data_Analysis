{
 "cells": [
  {
   "cell_type": "code",
   "execution_count": 1,
   "id": "112a3853",
   "metadata": {},
   "outputs": [],
   "source": [
    "import pickle\n",
    "from helper import *\n",
    "import pandas as pd\n",
    "import matplotlib.pyplot as plt\n",
    "import netCDF4 as nc\n",
    "import numpy as np\n",
    "import matplotlib.colors as colors\n",
    "import matplotlib.dates as mdates\n",
    "from scipy.ndimage import gaussian_filter1d\n",
    "import math\n",
    "import seaborn as sns"
   ]
  },
  {
   "cell_type": "code",
   "execution_count": 7,
   "id": "79f5a4cb",
   "metadata": {},
   "outputs": [],
   "source": [
    "with open('test.pkl', 'rb') as f:\n",
    "    groupedYears = pickle.load(f)"
   ]
  },
  {
   "cell_type": "code",
   "execution_count": 8,
   "id": "ebd9e4c8",
   "metadata": {},
   "outputs": [
    {
     "name": "stdout",
     "output_type": "stream",
     "text": [
      "<class 'pandas.core.frame.DataFrame'>\n"
     ]
    }
   ],
   "source": [
    "print(type(groupedYears))"
   ]
  },
  {
   "cell_type": "code",
   "execution_count": 13,
   "id": "a34e4f29",
   "metadata": {},
   "outputs": [],
   "source": [
    "idx = groupedYears[\"R_rho\"].idxmax()"
   ]
  },
  {
   "cell_type": "code",
   "execution_count": null,
   "id": "747a78d2",
   "metadata": {},
   "outputs": [
    {
     "data": {
      "text/plain": [
       "datetime.date(2018, 12, 8)"
      ]
     },
     "execution_count": 16,
     "metadata": {},
     "output_type": "execute_result"
    }
   ],
   "source": [
    "groupedYears.loc[idx,\"date\"]"
   ]
  },
  {
   "cell_type": "code",
   "execution_count": 17,
   "id": "f7c27d7f",
   "metadata": {},
   "outputs": [
    {
     "data": {
      "text/plain": [
       "1207"
      ]
     },
     "execution_count": 17,
     "metadata": {},
     "output_type": "execute_result"
    }
   ],
   "source": [
    "groupedYears.loc[idx,\"profileNum\"]"
   ]
  },
  {
   "cell_type": "code",
   "execution_count": 18,
   "id": "5520ec01",
   "metadata": {},
   "outputs": [
    {
     "data": {
      "text/plain": [
       "169456409.6865456"
      ]
     },
     "execution_count": 18,
     "metadata": {},
     "output_type": "execute_result"
    }
   ],
   "source": [
    "groupedYears.loc[idx,\"R_rho\"]"
   ]
  },
  {
   "cell_type": "code",
   "execution_count": null,
   "id": "7f3a4dc5",
   "metadata": {},
   "outputs": [],
   "source": []
  }
 ],
 "metadata": {
  "kernelspec": {
   "display_name": "base",
   "language": "python",
   "name": "python3"
  },
  "language_info": {
   "codemirror_mode": {
    "name": "ipython",
    "version": 3
   },
   "file_extension": ".py",
   "mimetype": "text/x-python",
   "name": "python",
   "nbconvert_exporter": "python",
   "pygments_lexer": "ipython3",
   "version": "3.12.8"
  }
 },
 "nbformat": 4,
 "nbformat_minor": 5
}

{
 "cells": [
  {
   "cell_type": "code",
   "execution_count": 7,
   "id": "8dd855a3",
   "metadata": {},
   "outputs": [],
   "source": [
    "# import block\n",
    "import xarray as xr\n",
    "import pandas as pd\n",
    "from helper import *"
   ]
  },
  {
   "cell_type": "code",
   "execution_count": null,
   "id": "fe5f35cc",
   "metadata": {},
   "outputs": [
    {
     "name": "stdout",
     "output_type": "stream",
     "text": [
      "   prof_Num  sys_Num           source                 date      lat       lon  \\\n",
      "0         1        1  itp1grd0001.dat  2005-08-16T06:00:00  78.8267 -150.1313   \n",
      "1         2        1  itp1grd0002.dat  2005-08-16T12:00:00  78.8004 -150.0818   \n",
      "2         3        1  itp1grd0003.dat  2005-08-16T18:00:00  78.7800 -150.0344   \n",
      "3         4        1  itp1grd0004.dat  2005-08-17T00:00:00  78.7583 -150.0634   \n",
      "4         5        1  itp1grd0005.dat  2005-08-17T06:00:00  78.7502 -150.0517   \n",
      "\n",
      "                                                temp  \\\n",
      "0  [-1.4530265737183783, -1.4501266873666698, -1....   \n",
      "1  [-1.4565443951250963, -1.4536362581735855, -1....   \n",
      "2  [-1.4602413923096886, -1.4580378125668252, -1....   \n",
      "3  [-1.4560739171950063, -1.456387322698672, -1.4...   \n",
      "4  [-1.4474874092091208, -1.4476002724554506, -1....   \n",
      "\n",
      "                                            salinity  \\\n",
      "0  [29.095229067418725, 29.109109871102103, 29.14...   \n",
      "1  [29.08136045122003, 29.08569389919455, 29.1595...   \n",
      "2  [29.046598337313807, 29.050007561435333, 29.05...   \n",
      "3  [28.996457521838273, 28.996953476865656, 28.99...   \n",
      "4  [28.974654137201753, 28.97524720127188, 28.977...   \n",
      "\n",
      "                                               depth  \\\n",
      "0  [9.59752982774943, 10.883762363506287, 11.8731...   \n",
      "1  [9.59753870983098, 10.78483166828843, 11.87317...   \n",
      "2  [8.806012561873954, 9.993310985698269, 10.9827...   \n",
      "3  [8.9049611866984, 9.993318645187923, 10.982729...   \n",
      "4  [8.707079882171412, 9.894380132557425, 10.9827...   \n",
      "\n",
      "                                            pressure  \n",
      "0  [9.7, 11.0, 12.0, 13.0, 14.0, 15.0, 16.1, 17.1...  \n",
      "1  [9.7, 10.9, 12.0, 13.0, 13.9, 15.0, 16.0, 16.9...  \n",
      "2  [8.9, 10.1, 11.1, 12.0, 12.9, 14.0, 15.0, 16.0...  \n",
      "3  [9.0, 10.1, 11.1, 12.1, 13.0, 14.0, 15.1, 16.1...  \n",
      "4  [8.8, 10.0, 11.1, 12.0, 12.9, 14.0, 15.1, 16.0...  \n"
     ]
    }
   ],
   "source": [
    "# Load the file\n",
    "ds = xr.open_dataset(\"profiles.nc\")\n",
    "\n",
    "# Convert relevant variables to DataFrame columns\n",
    "df = pd.DataFrame({\n",
    "    \"prof_Num\": ds.profile_number.values,\n",
    "    \"sys_Num\": ds.system_number.values,\n",
    "    \"source\": ds.source.values,\n",
    "    \"date\": ds.date_time.values,\n",
    "    \"lat\": ds.latitude.values,\n",
    "    \"lon\": ds.longitude.values,\n",
    "    \"temp\": ds.temperature.values,\n",
    "    \"salinity\": ds.salinity.values,\n",
    "    \"depth\": ds.depth.values, \n",
    "    \"pressure\": ds.pressure.values\n",
    "\n",
    "})\n",
    "\n",
    "print(df.head())"
   ]
  },
  {
   "cell_type": "code",
   "execution_count": 9,
   "id": "ebb53b50",
   "metadata": {},
   "outputs": [
    {
     "data": {
      "text/plain": [
       "9.59752982774943"
      ]
     },
     "execution_count": 9,
     "metadata": {},
     "output_type": "execute_result"
    }
   ],
   "source": [
    "df.loc[0, \"depth\"][0]\n"
   ]
  },
  {
   "cell_type": "code",
   "execution_count": 10,
   "id": "5b9b19f4",
   "metadata": {},
   "outputs": [
    {
     "ename": "TypeError",
     "evalue": "list indices must be integers or slices, not str",
     "output_type": "error",
     "traceback": [
      "\u001b[1;31m---------------------------------------------------------------------------\u001b[0m",
      "\u001b[1;31mTypeError\u001b[0m                                 Traceback (most recent call last)",
      "Cell \u001b[1;32mIn[10], line 1\u001b[0m\n\u001b[1;32m----> 1\u001b[0m \u001b[43mget_data\u001b[49m\u001b[43m(\u001b[49m\u001b[43mdf\u001b[49m\u001b[43m,\u001b[49m\u001b[43m \u001b[49m\u001b[38;5;241;43m3\u001b[39;49m\u001b[43m,\u001b[49m\u001b[43m \u001b[49m\u001b[43m[\u001b[49m\u001b[38;5;124;43m\"\u001b[39;49m\u001b[38;5;124;43mtemp\u001b[39;49m\u001b[38;5;124;43m\"\u001b[39;49m\u001b[43m,\u001b[49m\u001b[43m \u001b[49m\u001b[38;5;124;43m\"\u001b[39;49m\u001b[38;5;124;43mdepth\u001b[39;49m\u001b[38;5;124;43m\"\u001b[39;49m\u001b[43m,\u001b[49m\u001b[43m \u001b[49m\u001b[38;5;124;43m\"\u001b[39;49m\u001b[38;5;124;43msalinity\u001b[39;49m\u001b[38;5;124;43m\"\u001b[39;49m\u001b[43m]\u001b[49m\u001b[43m)\u001b[49m\n",
      "File \u001b[1;32md:\\EOAS\\ITP_Data_Analysis\\helper.py:10\u001b[0m, in \u001b[0;36mget_data\u001b[1;34m(df, row_num, var)\u001b[0m\n\u001b[0;32m      8\u001b[0m \u001b[38;5;28;01mfor\u001b[39;00m v \u001b[38;5;129;01min\u001b[39;00m var:\n\u001b[0;32m      9\u001b[0m     value  \u001b[38;5;241m=\u001b[39m df\u001b[38;5;241m.\u001b[39mloc[row_num, v][\u001b[38;5;241m0\u001b[39m]\n\u001b[1;32m---> 10\u001b[0m     \u001b[43mresults\u001b[49m\u001b[43m[\u001b[49m\u001b[43mv\u001b[49m\u001b[43m]\u001b[49m \u001b[38;5;241m=\u001b[39m value\n\u001b[0;32m     11\u001b[0m \u001b[38;5;28;01mreturn\u001b[39;00m results\n",
      "\u001b[1;31mTypeError\u001b[0m: list indices must be integers or slices, not str"
     ]
    }
   ],
   "source": [
    "get_data(df, 3, [\"temp\", \"depth\", \"salinity\"])"
   ]
  },
  {
   "cell_type": "code",
   "execution_count": null,
   "id": "a8ceb511",
   "metadata": {},
   "outputs": [],
   "source": []
  }
 ],
 "metadata": {
  "kernelspec": {
   "display_name": "base",
   "language": "python",
   "name": "python3"
  },
  "language_info": {
   "codemirror_mode": {
    "name": "ipython",
    "version": 3
   },
   "file_extension": ".py",
   "mimetype": "text/x-python",
   "name": "python",
   "nbconvert_exporter": "python",
   "pygments_lexer": "ipython3",
   "version": "3.12.8"
  }
 },
 "nbformat": 4,
 "nbformat_minor": 5
}

{
 "cells": [
  {
   "cell_type": "markdown",
   "id": "af4ae747",
   "metadata": {},
   "source": [
    "### Experiment field for new code, you can see the result rightaway"
   ]
  },
  {
   "cell_type": "code",
   "execution_count": 101,
   "id": "112a3853",
   "metadata": {},
   "outputs": [],
   "source": [
    "import numpy as np\n",
    "import cartopy.crs as ccrs\n",
    "import pickle\n",
    "from helper import *\n",
    "import pandas as pd\n",
    "import matplotlib.pyplot as plt\n",
    "import matplotlib.colors as colors\n",
    "import matplotlib.dates as mdates\n",
    "import math"
   ]
  },
  {
   "cell_type": "code",
   "execution_count": 102,
   "id": "79f5a4cb",
   "metadata": {},
   "outputs": [],
   "source": [
    "\n",
    "with open('grouped.pkl', 'rb') as f:\n",
    "    groupedYears = pickle.load(f)\n"
   ]
  },
  {
   "cell_type": "code",
   "execution_count": 103,
   "id": "a34e4f29",
   "metadata": {},
   "outputs": [],
   "source": [
    "i = 1"
   ]
  },
  {
   "cell_type": "code",
   "execution_count": 111,
   "id": "747a78d2",
   "metadata": {},
   "outputs": [
    {
     "name": "stdout",
     "output_type": "stream",
     "text": [
      "5127456\n",
      "5127456\n",
      "4769\n",
      "   year  systemNum  profileNum  count\n",
      "0  2008          6         967    828\n",
      "1  2008          6         968    832\n",
      "2  2008          6         969   1008\n",
      "3  2008          6         970    992\n",
      "4  2008          6         971    980\n"
     ]
    }
   ],
   "source": [
    "# density map code:\n",
    "def simpleDF(df):\n",
    "    df_with_counts = df.copy()\n",
    "    df_with_counts['year'] = df_with_counts['date'].apply(lambda d: d.year)\n",
    "    df_with_counts = (\n",
    "        df_with_counts.groupby([\"year\", \"systemNum\", \"profileNum\"])\n",
    "        .size()\n",
    "        .reset_index(name='count')\n",
    "        )\n",
    "    return df_with_counts\n",
    "\n",
    "group_zero = simpleDF(groupedYears[i])\n",
    "print(len(groupedYears[i]))\n",
    "print(np.sum(group_zero[\"count\"]))\n",
    "print(len(group_zero[\"count\"]))\n",
    "print(group_zero.head())"
   ]
  },
  {
   "cell_type": "code",
   "execution_count": null,
   "id": "51bc54a3",
   "metadata": {},
   "outputs": [
    {
     "name": "stdout",
     "output_type": "stream",
     "text": [
      "            lat         lon  year  systemNum  profileNum  count\n",
      "0     74.077351 -135.096601  2006          3        1510    932\n",
      "1     74.081346 -135.695960  2006          3        1504    992\n",
      "2     74.083059 -135.674867  2006          3        1503   1000\n",
      "3     74.086695 -135.101169  2006          3        1511    920\n",
      "4     74.089399 -135.121412  2006          3        1509    908\n",
      "...         ...         ...   ...        ...         ...    ...\n",
      "7254  80.946172 -149.019553  2007          8         100   1148\n",
      "7255  80.953127 -149.042850  2007          8          99   1168\n",
      "7256  80.974083 -149.633178  2007          8          97   1148\n",
      "7257  80.974738 -149.523529  2007          8          98   1184\n",
      "7258  80.990152 -151.842318  2007          8          89   1256\n",
      "\n",
      "[7259 rows x 6 columns]\n",
      "            lat         lon  year  systemNum  profileNum  count\n",
      "2835  76.569531 -134.164638  2004          2         180    976\n",
      "2838  76.571359 -134.130646  2004          2         181    976\n",
      "2839  76.571627 -134.219250  2004          2         179    948\n",
      "2844  76.577193 -134.117708  2004          2         182    976\n",
      "2846  76.578211 -134.295095  2004          2         178    936\n",
      "...         ...         ...   ...        ...         ...    ...\n",
      "3872  77.159743 -140.970960  2004          2           5    988\n",
      "3878  77.165787 -141.009686  2004          2           4   1016\n",
      "3879  77.165869 -141.071005  2004          2           3   1020\n",
      "3884  77.167240 -141.124306  2004          2           2   1000\n",
      "3886  77.169878 -141.169724  2004          2           1   1008\n",
      "\n",
      "[239 rows x 6 columns]\n",
      "1049\n",
      "3197\n",
      "2774\n"
     ]
    }
   ],
   "source": [
    "# Group and count\n",
    "def simpleDF(df):\n",
    "    df_with_counts = df.copy()\n",
    "    df_with_counts['year'] = df_with_counts['date'].apply(lambda d: d.year)\n",
    "    df_with_counts = (\n",
    "        df_with_counts.groupby([\"lat\", \"lon\", \"year\", \"systemNum\", \"profileNum\"])\n",
    "        .size()\n",
    "        .reset_index(name='count')\n",
    "        )\n",
    "    return df_with_counts\n",
    "\n",
    "group_zero = simpleDF(groupedYears[i])\n",
    "# print(group_zero)\n",
    "# print(group_zero[group_zero[\"year\"]==2004])\n",
    "print(len(group_zero[group_zero[\"year\"]==2005]))\n",
    "print(len(group_zero[group_zero[\"year\"]==2006]))\n",
    "print(len(group_zero[group_zero[\"year\"]==2007]))\n"
   ]
  },
  {
   "cell_type": "code",
   "execution_count": 77,
   "id": "ef80183c",
   "metadata": {},
   "outputs": [
    {
     "name": "stdout",
     "output_type": "stream",
     "text": [
      "Empty DataFrame\n",
      "Columns: [date, profileNum, systemNum, lat, lon]\n",
      "Index: []\n"
     ]
    }
   ],
   "source": [
    "check_unique = (\n",
    "    groupedYears[i].groupby(['date', 'profileNum',\"systemNum\"])[['lat', 'lon']]\n",
    "    .nunique()\n",
    "    .reset_index()\n",
    ")\n",
    "print(check_unique[check_unique[\"lat\"] > 1])\n"
   ]
  },
  {
   "cell_type": "code",
   "execution_count": null,
   "id": "53bc7097",
   "metadata": {},
   "outputs": [
    {
     "name": "stdout",
     "output_type": "stream",
     "text": [
      "36295\n"
     ]
    }
   ],
   "source": [
    "df = groupedYears[i]\n",
    "check_unique = (\n",
    "    df.groupby(['date', 'profileNum', \"systemNum\"])[['lat', 'lon']]\n",
    "    .nunique()\n",
    "    .reset_index()\n",
    ")\n",
    "print(check_unique)\n",
    "\n",
    "# Only those with more than 1 unique lat or lon\n",
    "not_unique = check_unique[(check_unique['lat'] > 1) | (check_unique['lon'] > 1)]\n",
    "\n",
    "for _, row in not_unique.iterrows():\n",
    "    date = row['date']\n",
    "    profile = row['profileNum']\n",
    "\n",
    "    # Filter original df for this pair\n",
    "    subset = df[(df['date'] == date) & (df['profileNum'] == profile)]\n",
    "\n",
    "    # Get distinct lat/lon values\n",
    "    unique_locs = subset[['lat', 'lon',\"systemNum\"]].drop_duplicates()\n",
    "\n",
    "    print(f\"\\n(date: {date}, profileNum: {profile}) has multiple locations:\")\n",
    "    print(unique_locs)\n",
    "# add ITP system number to the inital dataset\n"
   ]
  },
  {
   "cell_type": "code",
   "execution_count": null,
   "id": "e560ab40",
   "metadata": {},
   "outputs": [],
   "source": []
  }
 ],
 "metadata": {
  "kernelspec": {
   "display_name": "base",
   "language": "python",
   "name": "python3"
  },
  "language_info": {
   "codemirror_mode": {
    "name": "ipython",
    "version": 3
   },
   "file_extension": ".py",
   "mimetype": "text/x-python",
   "name": "python",
   "nbconvert_exporter": "python",
   "pygments_lexer": "ipython3",
   "version": "3.12.8"
  }
 },
 "nbformat": 4,
 "nbformat_minor": 5
}
